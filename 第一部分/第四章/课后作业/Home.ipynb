{
 "cells": [
  {
   "cell_type": "code",
   "execution_count": 17,
   "metadata": {},
   "outputs": [],
   "source": [
    "import torch\n",
    "import numpy as np\n",
    "import imageio\n",
    "filepath = r'D:\\FunnyProgramming\\Pytorch深度学习实战\\PytorchLearning\\第四章'\n"
   ]
  },
  {
   "cell_type": "markdown",
   "metadata": {},
   "source": []
  },
  {
   "cell_type": "code",
   "execution_count": 18,
   "metadata": {},
   "outputs": [
    {
     "name": "stderr",
     "output_type": "stream",
     "text": [
      "C:\\Users\\ElainaX\\AppData\\Local\\Temp\\ipykernel_62000\\2491866216.py:5: DeprecationWarning: Starting with ImageIO v3 the behavior of this function will switch to that of iio.v3.imread. To keep the current behavior (and make this warning disappear) use `import imageio.v2 as imageio` or call `imageio.v2.imread` directly.\n",
      "  img_list.append(imageio.imread(filepath+redName))\n",
      "C:\\Users\\ElainaX\\AppData\\Local\\Temp\\ipykernel_62000\\2491866216.py:6: DeprecationWarning: Starting with ImageIO v3 the behavior of this function will switch to that of iio.v3.imread. To keep the current behavior (and make this warning disappear) use `import imageio.v2 as imageio` or call `imageio.v2.imread` directly.\n",
      "  img_list.append(imageio.imread(filepath+greenName))\n",
      "C:\\Users\\ElainaX\\AppData\\Local\\Temp\\ipykernel_62000\\2491866216.py:7: DeprecationWarning: Starting with ImageIO v3 the behavior of this function will switch to that of iio.v3.imread. To keep the current behavior (and make this warning disappear) use `import imageio.v2 as imageio` or call `imageio.v2.imread` directly.\n",
      "  img_list.append(imageio.imread(filepath+blueName))\n"
     ]
    }
   ],
   "source": [
    "redName = r'\\红色.jpeg'\n",
    "greenName = r'\\绿色.jpeg'\n",
    "blueName = r'\\蓝色.jpeg'\n",
    "img_list = list()\n",
    "img_list.append(imageio.imread(filepath+redName))\n",
    "img_list.append(imageio.imread(filepath+greenName))\n",
    "img_list.append(imageio.imread(filepath+blueName))\n"
   ]
  },
  {
   "cell_type": "code",
   "execution_count": 22,
   "metadata": {},
   "outputs": [
    {
     "data": {
      "text/plain": [
       "(torch.Size([987, 658, 3]),\n",
       " torch.Size([975, 650, 3]),\n",
       " torch.Size([583, 700, 3]))"
      ]
     },
     "execution_count": 22,
     "metadata": {},
     "output_type": "execute_result"
    }
   ],
   "source": [
    "red_img_tensor = torch.from_numpy(img_list[0])\n",
    "green_img_tensor = torch.from_numpy(img_list[1])\n",
    "blue_img_tensor = torch.from_numpy(img_list[2])\n",
    "red_img_tensor.shape, green_img_tensor.shape, blue_img_tensor.shape"
   ]
  },
  {
   "cell_type": "code",
   "execution_count": 23,
   "metadata": {},
   "outputs": [
    {
     "data": {
      "text/plain": [
       "(tensor(76.1027), tensor(95.8735), tensor(140.1979))"
      ]
     },
     "execution_count": 23,
     "metadata": {},
     "output_type": "execute_result"
    }
   ],
   "source": [
    "red_img_mean = red_img_tensor.mean(dtype=torch.float32)\n",
    "green_img_mean = green_img_tensor.mean(dtype=torch.float32)\n",
    "blue_img_mean = blue_img_tensor.mean(dtype=torch.float32)\n",
    "red_img_mean, green_img_mean, blue_img_mean"
   ]
  },
  {
   "cell_type": "code",
   "execution_count": 25,
   "metadata": {},
   "outputs": [
    {
     "name": "stdout",
     "output_type": "stream",
     "text": [
      "tensor(181.6898) tensor(20.6305) tensor(25.9879)\n",
      "tensor(62.8437) tensor(172.3720) tensor(52.4049)\n",
      "tensor(42.9558) tensor(159.1187) tensor(218.5191)\n"
     ]
    }
   ],
   "source": [
    "img_channel_brightness = torch.zeros(3, 3)\n",
    "img_list = [red_img_tensor, green_img_tensor, blue_img_tensor]\n",
    "for i in range(3):\n",
    "    print(img_list[i][:,:,0].mean(dtype=torch.float32), img_list[i][:,:,1].mean(dtype=torch.float32), img_list[i][:,:,2].mean(dtype=torch.float32))"
   ]
  },
  {
   "cell_type": "markdown",
   "metadata": {},
   "source": [
    "$\\frac{5}{6}$"
   ]
  },
  {
   "cell_type": "code",
   "execution_count": null,
   "metadata": {},
   "outputs": [],
   "source": []
  }
 ],
 "metadata": {
  "kernelspec": {
   "display_name": "pytorchEnv",
   "language": "python",
   "name": "python3"
  },
  "language_info": {
   "codemirror_mode": {
    "name": "ipython",
    "version": 3
   },
   "file_extension": ".py",
   "mimetype": "text/x-python",
   "name": "python",
   "nbconvert_exporter": "python",
   "pygments_lexer": "ipython3",
   "version": "3.8.16"
  },
  "orig_nbformat": 4
 },
 "nbformat": 4,
 "nbformat_minor": 2
}
