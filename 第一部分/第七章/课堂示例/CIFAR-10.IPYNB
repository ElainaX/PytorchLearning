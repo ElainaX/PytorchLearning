{
 "cells": [
  {
   "cell_type": "code",
   "execution_count": 105,
   "metadata": {},
   "outputs": [
    {
     "name": "stdout",
     "output_type": "stream",
     "text": [
      "Files already downloaded and verified\n",
      "Files already downloaded and verified\n"
     ]
    },
    {
     "data": {
      "text/plain": [
       "(torchvision.datasets.cifar.CIFAR10,\n",
       " torchvision.datasets.vision.VisionDataset,\n",
       " torch.utils.data.dataset.Dataset,\n",
       " typing.Generic,\n",
       " object)"
      ]
     },
     "execution_count": 105,
     "metadata": {},
     "output_type": "execute_result"
    }
   ],
   "source": [
    "from torchvision import datasets\n",
    "data_path = r'D:\\FunnyProgramming\\PythonProject\\SummerPrac\\data'\n",
    "cifar10 = datasets.CIFAR10(data_path, train=True, download=True)\n",
    "cifar10_val = datasets.CIFAR10(data_path, train=False, download=True)\n",
    "\n",
    "type(cifar10).__mro__\n"
   ]
  },
  {
   "cell_type": "code",
   "execution_count": 106,
   "metadata": {},
   "outputs": [
    {
     "data": {
      "text/plain": [
       "(50000, 10000)"
      ]
     },
     "execution_count": 106,
     "metadata": {},
     "output_type": "execute_result"
    }
   ],
   "source": [
    "len(cifar10), len(cifar10_val)"
   ]
  },
  {
   "cell_type": "code",
   "execution_count": 107,
   "metadata": {},
   "outputs": [
    {
     "data": {
      "text/plain": [
       "(<PIL.Image.Image image mode=RGB size=32x32>, 1, 'automobile')"
      ]
     },
     "execution_count": 107,
     "metadata": {},
     "output_type": "execute_result"
    }
   ],
   "source": [
    "img, label = cifar10[99]\n",
    "img, label, cifar10.classes[label]"
   ]
  },
  {
   "cell_type": "code",
   "execution_count": 108,
   "metadata": {},
   "outputs": [
    {
     "data": {
      "image/png": "[encoded data removed]",
      "text/plain": [
       "<Figure size 640x480 with 1 Axes>"
      ]
     },
     "metadata": {},
     "output_type": "display_data"
    }
   ],
   "source": [
    "import matplotlib.pyplot as plt\n",
    "\n",
    "plt.imshow(img)\n",
    "plt.show()"
   ]
  },
  {
   "cell_type": "code",
   "execution_count": 109,
   "metadata": {},
   "outputs": [
    {
     "data": {
      "text/plain": [
       "PIL.Image.Image"
      ]
     },
     "execution_count": 109,
     "metadata": {},
     "output_type": "execute_result"
    }
   ],
   "source": [
    "type(img)"
   ]
  },
  {
   "cell_type": "code",
   "execution_count": 110,
   "metadata": {},
   "outputs": [
    {
     "data": {
      "text/plain": [
       "['AugMix',\n",
       " 'AutoAugment',\n",
       " 'AutoAugmentPolicy',\n",
       " 'CenterCrop',\n",
       " 'ColorJitter',\n",
       " 'Compose',\n",
       " 'ConvertImageDtype',\n",
       " 'ElasticTransform',\n",
       " 'FiveCrop',\n",
       " 'GaussianBlur',\n",
       " 'Grayscale',\n",
       " 'InterpolationMode',\n",
       " 'Lambda',\n",
       " 'LinearTransformation',\n",
       " 'Normalize',\n",
       " 'PILToTensor',\n",
       " 'Pad',\n",
       " 'RandAugment',\n",
       " 'RandomAdjustSharpness',\n",
       " 'RandomAffine',\n",
       " 'RandomApply',\n",
       " 'RandomAutocontrast',\n",
       " 'RandomChoice',\n",
       " 'RandomCrop',\n",
       " 'RandomEqualize',\n",
       " 'RandomErasing',\n",
       " 'RandomGrayscale',\n",
       " 'RandomHorizontalFlip',\n",
       " 'RandomInvert',\n",
       " 'RandomOrder',\n",
       " 'RandomPerspective',\n",
       " 'RandomPosterize',\n",
       " 'RandomResizedCrop',\n",
       " 'RandomRotation',\n",
       " 'RandomSolarize',\n",
       " 'RandomVerticalFlip',\n",
       " 'Resize',\n",
       " 'TenCrop',\n",
       " 'ToPILImage',\n",
       " 'ToTensor',\n",
       " 'TrivialAugmentWide',\n",
       " '__builtins__',\n",
       " '__cached__',\n",
       " '__doc__',\n",
       " '__file__',\n",
       " '__loader__',\n",
       " '__name__',\n",
       " '__package__',\n",
       " '__path__',\n",
       " '__spec__',\n",
       " '_functional_pil',\n",
       " '_functional_tensor',\n",
       " '_presets',\n",
       " 'autoaugment',\n",
       " 'functional',\n",
       " 'transforms']"
      ]
     },
     "execution_count": 110,
     "metadata": {},
     "output_type": "execute_result"
    }
   ],
   "source": [
    "from torchvision import transforms\n",
    "dir(transforms)"
   ]
  },
  {
   "cell_type": "code",
   "execution_count": 111,
   "metadata": {},
   "outputs": [
    {
     "data": {
      "text/plain": [
       "(tensor(1.), tensor(0.))"
      ]
     },
     "execution_count": 111,
     "metadata": {},
     "output_type": "execute_result"
    }
   ],
   "source": [
    "to_tensor = transforms.ToTensor()\n",
    "img_t = to_tensor(img)\n",
    "img_t.max(), img_t.min()"
   ]
  },
  {
   "cell_type": "code",
   "execution_count": 112,
   "metadata": {},
   "outputs": [
    {
     "name": "stdout",
     "output_type": "stream",
     "text": [
      "Files already downloaded and verified\n",
      "Files already downloaded and verified\n"
     ]
    }
   ],
   "source": [
    "# normalize data\n",
    "import torch\n",
    "tensor_cifar10 = datasets.CIFAR10(data_path, train=True, download=True, transform=transforms.Compose([to_tensor, transforms.RandomCrop(24)]))\n",
    "tensor_cifar10_val = datasets.CIFAR10(data_path, train=False, download=True, transform=transforms.Compose([to_tensor, transforms.RandomCrop(24)]))\n",
    "imgs = torch.stack([img for img, label in tensor_cifar10], dim=3)\n",
    "mean = imgs.view(3, -1).mean(dim=1)"
   ]
  },
  {
   "cell_type": "code",
   "execution_count": 113,
   "metadata": {},
   "outputs": [
    {
     "data": {
      "text/plain": [
       "(tensor([0.2413, 0.2374, 0.2529]), tensor([0.4893, 0.4724, 0.4364]))"
      ]
     },
     "execution_count": 113,
     "metadata": {},
     "output_type": "execute_result"
    }
   ],
   "source": [
    "stddev = imgs.view(3, -1).std(dim=1)\n",
    "stddev, mean"
   ]
  },
  {
   "cell_type": "code",
   "execution_count": 114,
   "metadata": {},
   "outputs": [
    {
     "name": "stderr",
     "output_type": "stream",
     "text": [
      "Clipping input data to the valid range for imshow with RGB data ([0..1] for floats or [0..255] for integers).\n"
     ]
    },
    {
     "data": {
      "image/png": "[encoded data removed]",
      "text/plain": [
       "<Figure size 640x480 with 1 Axes>"
      ]
     },
     "metadata": {},
     "output_type": "display_data"
    }
   ],
   "source": [
    "transformed_cifar10 = datasets.CIFAR10(data_path, train=True, download=False,\n",
    "                                       transform=transforms.Compose([\n",
    "                                           transforms.ToTensor(),\n",
    "                                           transforms.Normalize(mean, stddev)\n",
    "                                       ]))\n",
    "img_t, _ = transformed_cifar10[99]\n",
    "plt.imshow(img_t.permute(1, 2, 0))\n",
    "plt.show()"
   ]
  },
  {
   "cell_type": "code",
   "execution_count": 115,
   "metadata": {},
   "outputs": [
    {
     "data": {
      "text/plain": [
       "('airplane', 'bird')"
      ]
     },
     "execution_count": 115,
     "metadata": {},
     "output_type": "execute_result"
    }
   ],
   "source": [
    "# classify bird and plane\n",
    "label_map = {0:0, 2:1}\n",
    "class_name = {'airplane', 'bird'}\n",
    "transformed_cifar10.classes[0], transformed_cifar10.classes[2]"
   ]
  },
  {
   "cell_type": "code",
   "execution_count": 116,
   "metadata": {},
   "outputs": [],
   "source": [
    "cifar2 = [(img, label_map[label]) for img, label in tensor_cifar10 if label in [0, 2]]\n",
    "cifar2_val = [(img, label_map[label]) for img, label in tensor_cifar10_val if label in [0, 2]]"
   ]
  },
  {
   "cell_type": "code",
   "execution_count": 126,
   "metadata": {},
   "outputs": [
    {
     "name": "stdout",
     "output_type": "stream",
     "text": [
      "Epoch: 1, Loss: 0.233233\n",
      "Epoch: 2, Loss: 0.179745\n",
      "Epoch: 3, Loss: 0.145816\n",
      "Epoch: 4, Loss: 0.242898\n",
      "Epoch: 5, Loss: 0.182528\n",
      "Epoch: 6, Loss: 0.123859\n",
      "Epoch: 7, Loss: 0.142675\n",
      "Epoch: 8, Loss: 0.144666\n",
      "Epoch: 9, Loss: 0.242480\n",
      "Epoch: 10, Loss: 0.189070\n",
      "Epoch: 11, Loss: 0.291840\n",
      "Epoch: 12, Loss: 0.216479\n",
      "Epoch: 13, Loss: 0.338327\n",
      "Epoch: 14, Loss: 0.203716\n",
      "Epoch: 15, Loss: 0.130138\n",
      "Epoch: 16, Loss: 0.155757\n",
      "Epoch: 17, Loss: 0.051119\n",
      "Epoch: 18, Loss: 0.237348\n",
      "Epoch: 19, Loss: 0.156156\n",
      "Epoch: 20, Loss: 0.138426\n",
      "Epoch: 21, Loss: 0.121783\n",
      "Epoch: 22, Loss: 0.219692\n",
      "Epoch: 23, Loss: 0.129341\n",
      "Epoch: 24, Loss: 0.181166\n",
      "Epoch: 25, Loss: 0.200577\n",
      "Epoch: 26, Loss: 0.129184\n",
      "Epoch: 27, Loss: 0.263983\n",
      "Epoch: 28, Loss: 0.160810\n",
      "Epoch: 29, Loss: 0.110397\n",
      "Epoch: 30, Loss: 0.196617\n",
      "Epoch: 31, Loss: 0.160061\n",
      "Epoch: 32, Loss: 0.141711\n",
      "Epoch: 33, Loss: 0.202270\n",
      "Epoch: 34, Loss: 0.067130\n",
      "Epoch: 35, Loss: 0.167287\n",
      "Epoch: 36, Loss: 0.131335\n",
      "Epoch: 37, Loss: 0.111822\n",
      "Epoch: 38, Loss: 0.115722\n",
      "Epoch: 39, Loss: 0.136721\n",
      "Epoch: 40, Loss: 0.152843\n",
      "Epoch: 41, Loss: 0.153560\n",
      "Epoch: 42, Loss: 0.121755\n",
      "Epoch: 43, Loss: 0.098756\n",
      "Epoch: 44, Loss: 0.242746\n",
      "Epoch: 45, Loss: 0.092886\n",
      "Epoch: 46, Loss: 0.165295\n",
      "Epoch: 47, Loss: 0.108609\n",
      "Epoch: 48, Loss: 0.122120\n",
      "Epoch: 49, Loss: 0.276262\n",
      "Epoch: 50, Loss: 0.139369\n",
      "Epoch: 51, Loss: 0.112699\n",
      "Epoch: 52, Loss: 0.253252\n",
      "Epoch: 53, Loss: 0.159715\n",
      "Epoch: 54, Loss: 0.260916\n",
      "Epoch: 55, Loss: 0.148254\n",
      "Epoch: 56, Loss: 0.176804\n",
      "Epoch: 57, Loss: 0.262460\n",
      "Epoch: 58, Loss: 0.116501\n",
      "Epoch: 59, Loss: 0.197619\n",
      "Epoch: 60, Loss: 0.191358\n",
      "Epoch: 61, Loss: 0.145639\n",
      "Epoch: 62, Loss: 0.100970\n",
      "Epoch: 63, Loss: 0.120782\n",
      "Epoch: 64, Loss: 0.164575\n",
      "Epoch: 65, Loss: 0.189222\n",
      "Epoch: 66, Loss: 0.090008\n",
      "Epoch: 67, Loss: 0.076805\n",
      "Epoch: 68, Loss: 0.139572\n",
      "Epoch: 69, Loss: 0.149339\n",
      "Epoch: 70, Loss: 0.133136\n",
      "Epoch: 71, Loss: 0.061999\n",
      "Epoch: 72, Loss: 0.128645\n",
      "Epoch: 73, Loss: 0.073859\n",
      "Epoch: 74, Loss: 0.131918\n",
      "Epoch: 75, Loss: 0.136649\n",
      "Epoch: 76, Loss: 0.182036\n",
      "Epoch: 77, Loss: 0.162453\n",
      "Epoch: 78, Loss: 0.130571\n",
      "Epoch: 79, Loss: 0.165896\n",
      "Epoch: 80, Loss: 0.112045\n",
      "Epoch: 81, Loss: 0.129799\n",
      "Epoch: 82, Loss: 0.112478\n",
      "Epoch: 83, Loss: 0.118357\n",
      "Epoch: 84, Loss: 0.111509\n",
      "Epoch: 85, Loss: 0.206844\n",
      "Epoch: 86, Loss: 0.125666\n",
      "Epoch: 87, Loss: 0.157915\n",
      "Epoch: 88, Loss: 0.201755\n",
      "Epoch: 89, Loss: 0.146797\n",
      "Epoch: 90, Loss: 0.168218\n",
      "Epoch: 91, Loss: 0.037203\n",
      "Epoch: 92, Loss: 0.052216\n",
      "Epoch: 93, Loss: 0.097097\n",
      "Epoch: 94, Loss: 0.112905\n",
      "Epoch: 95, Loss: 0.116349\n",
      "Epoch: 96, Loss: 0.218261\n",
      "Epoch: 97, Loss: 0.279479\n",
      "Epoch: 98, Loss: 0.088868\n",
      "Epoch: 99, Loss: 0.083884\n"
     ]
    }
   ],
   "source": [
    "import torch\n",
    "from torch.utils.data import DataLoader\n",
    "from torch import nn\n",
    "from torch import optim\n",
    "\n",
    "train_loader = DataLoader(cifar2, batch_size=64, shuffle=True)\n",
    "\n",
    "model = nn.Sequential(\n",
    "    nn.Linear(in_features=1728, out_features=1024),\n",
    "    nn.Tanh(),\n",
    "    nn.Linear(in_features=1024, out_features=512),\n",
    "    nn.Tanh(),\n",
    "    nn.Linear(in_features=512, out_features=128),\n",
    "    nn.Tanh(),\n",
    "    nn.Linear(in_features=128, out_features=2),\n",
    "    nn.Softmax(dim=-1)\n",
    ")\n",
    "\n",
    "device = torch.device(\"cuda\")\n",
    "model = model.to(device)\n",
    "\n",
    "learning_rate = 1e-2\n",
    "optimizer = optim.SGD(model.parameters(), lr=learning_rate)\n",
    "\n",
    "loss_fn = nn.MSELoss()\n",
    "\n",
    "n_epochs = 100\n",
    "\n",
    "for epoch in range(1, n_epochs):\n",
    "    for imgs, labels in train_loader:\n",
    "        imgs = imgs.to(device)\n",
    "        labels = labels.to(device)\n",
    "        batch_size = imgs.shape[0]\n",
    "        true_labels = torch.zeros(batch_size, 2).to(device)\n",
    "        true_labels.scatter_(1, labels.unsqueeze(-1), 1.0)\n",
    "\n",
    "\n",
    "        outputs = model(imgs.view(batch_size, -1))\n",
    "        loss = loss_fn(outputs, true_labels)\n",
    "        optimizer.zero_grad()\n",
    "        loss.backward()\n",
    "        optimizer.step()\n",
    "    print(\"Epoch: %d, Loss: %f\" % (epoch, loss.item()))"
   ]
  },
  {
   "cell_type": "code",
   "execution_count": 127,
   "metadata": {},
   "outputs": [
    {
     "name": "stdout",
     "output_type": "stream",
     "text": [
      "Accuracy: 0.807500\n",
      "Total number of parameters: 2361218.000000\n"
     ]
    }
   ],
   "source": [
    "# test model\n",
    "val_loader = DataLoader(cifar2_val, batch_size=64, shuffle=False)\n",
    "correct = 0\n",
    "total = 0\n",
    "\n",
    "with torch.no_grad():\n",
    "    for imgs, labels in val_loader:\n",
    "        imgs = imgs.to(device)\n",
    "        labels = labels.to(device)\n",
    "        batch_size = imgs.shape[0]\n",
    "        outputs = model(imgs.view(batch_size, -1))\n",
    "        _, predicted = torch.max(outputs, dim=1)\n",
    "        total += batch_size\n",
    "        correct += (predicted == labels).sum()\n",
    "print('Accuracy: %f' % (correct/total))\n",
    "numel_list = [p.numel() for p in model.parameters() if p.requires_grad==True]\n",
    "print('Total number of parameters: %f' % (sum(numel_list)))"
   ]
  },
  {
   "cell_type": "code",
   "execution_count": null,
   "metadata": {},
   "outputs": [],
   "source": []
  }
 ],
 "metadata": {
  "kernelspec": {
   "display_name": "pytorchEnv",
   "language": "python",
   "name": "python3"
  },
  "language_info": {
   "codemirror_mode": {
    "name": "ipython",
    "version": 3
   },
   "file_extension": ".py",
   "mimetype": "text/x-python",
   "name": "python",
   "nbconvert_exporter": "python",
   "pygments_lexer": "ipython3",
   "version": "3.8.16"
  },
  "orig_nbformat": 4
 },
 "nbformat": 4,
 "nbformat_minor": 2
}
