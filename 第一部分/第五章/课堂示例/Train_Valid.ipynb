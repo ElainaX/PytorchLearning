{
 "cells": [
  {
   "cell_type": "code",
   "execution_count": 1,
   "metadata": {},
   "outputs": [],
   "source": [
    "import torch"
   ]
  },
  {
   "cell_type": "code",
   "execution_count": 19,
   "metadata": {},
   "outputs": [
    {
     "data": {
      "text/plain": [
       "(tensor([10,  0,  2,  4,  1,  5,  6,  9,  3]), tensor([7, 8]))"
      ]
     },
     "execution_count": 19,
     "metadata": {},
     "output_type": "execute_result"
    }
   ],
   "source": [
    "t_c = torch.tensor([0.5, 14.0, 15.0, 28.0, 11.0, 8.0, 3.0, -4.0, 6.0, 13.0, 21.0])\n",
    "t_u = torch.tensor([35.7, 55.9, 58.2, 81.9, 56.3, 48.9, 33.9, 21.8, 48.4, 60.4, 68.4])\n",
    "\n",
    "n_samples = t_u.shape[0]\n",
    "n_val = int(0.2*n_samples)\n",
    "shuffled_index = torch.randperm(n_samples)\n",
    "\n",
    "train_index = shuffled_index[:-n_val]\n",
    "val_index = shuffled_index[-n_val:]\n",
    "\n",
    "train_index, val_index"
   ]
  },
  {
   "cell_type": "code",
   "execution_count": 20,
   "metadata": {},
   "outputs": [],
   "source": [
    "train_t_u = t_u[train_index]\n",
    "train_t_c = t_c[train_index]\n",
    "\n",
    "val_t_u = t_u[val_index]\n",
    "val_t_c = t_c[val_index]\n",
    "\n",
    "train_t_un = train_t_u*0.1\n",
    "val_t_un = val_t_u*0.1"
   ]
  },
  {
   "cell_type": "code",
   "execution_count": 21,
   "metadata": {},
   "outputs": [],
   "source": [
    "def model(t_u, w, b):\n",
    "    return w*t_u + b\n",
    "def loss_fn(t_p, t_c):\n",
    "    squared_error = (t_p-t_c)**2\n",
    "    return squared_error.mean()\n",
    "\n",
    "learning_rate = 1e-2\n",
    "params = torch.tensor([1.0, 0.0], requires_grad=True)\n",
    "optimizer = torch.optim.SGD(params=[params], lr=learning_rate)"
   ]
  },
  {
   "cell_type": "code",
   "execution_count": 29,
   "metadata": {},
   "outputs": [],
   "source": [
    "from torch import autograd\n",
    "def training_loop(n_epochs, optimizer, params, train_t_u, val_t_u, train_t_c, val_t_c):\n",
    "    for epoch in range(1, n_epochs+1):\n",
    "        train_t_p = model(train_t_u, *params) # 前向传播\n",
    "        train_loss = loss_fn(train_t_p, train_t_c) # 计算损失\n",
    "        \n",
    "        with torch.no_grad():\n",
    "            val_t_p = model(val_t_u, *params)\n",
    "            val_loss = loss_fn(val_t_p, val_t_c)\n",
    "\n",
    "        optimizer.zero_grad()\n",
    "        train_loss.backward() # 反向传播\n",
    "        optimizer.step()\n",
    "        if epoch % 500 == 0:\n",
    "            print('Epoch %d,Training Loss %f, Validation Loss %f' % (epoch, train_loss, val_loss))\n"
   ]
  },
  {
   "cell_type": "code",
   "execution_count": 30,
   "metadata": {},
   "outputs": [
    {
     "name": "stdout",
     "output_type": "stream",
     "text": [
      "Epoch 500,Training Loss 2.407614, Validation Loss 5.816799\n",
      "Epoch 1000,Training Loss 2.407614, Validation Loss 5.816799\n",
      "Epoch 1500,Training Loss 2.407614, Validation Loss 5.816799\n",
      "Epoch 2000,Training Loss 2.407614, Validation Loss 5.816799\n",
      "Epoch 2500,Training Loss 2.407614, Validation Loss 5.816799\n",
      "Epoch 3000,Training Loss 2.407614, Validation Loss 5.816799\n",
      "Epoch 3500,Training Loss 2.407614, Validation Loss 5.816799\n",
      "Epoch 4000,Training Loss 2.407614, Validation Loss 5.816799\n",
      "Epoch 4500,Training Loss 2.407614, Validation Loss 5.816799\n",
      "Epoch 5000,Training Loss 2.407614, Validation Loss 5.816799\n"
     ]
    }
   ],
   "source": [
    "# 这里我们使用归一化之后的t_un\n",
    "training_loop(n_epochs=5000, optimizer=optimizer, params=params, \n",
    "    train_t_u=train_t_un, val_t_u=val_t_un,\n",
    "    train_t_c=train_t_c, val_t_c=val_t_c)"
   ]
  },
  {
   "cell_type": "code",
   "execution_count": null,
   "metadata": {},
   "outputs": [],
   "source": []
  }
 ],
 "metadata": {
  "kernelspec": {
   "display_name": "pytorchEnv",
   "language": "python",
   "name": "python3"
  },
  "language_info": {
   "codemirror_mode": {
    "name": "ipython",
    "version": 3
   },
   "file_extension": ".py",
   "mimetype": "text/x-python",
   "name": "python",
   "nbconvert_exporter": "python",
   "pygments_lexer": "ipython3",
   "version": "3.8.16"
  },
  "orig_nbformat": 4
 },
 "nbformat": 4,
 "nbformat_minor": 2
}
